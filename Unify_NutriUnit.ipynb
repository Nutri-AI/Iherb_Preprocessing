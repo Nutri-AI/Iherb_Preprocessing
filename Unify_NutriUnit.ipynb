{
 "cells": [
  {
   "cell_type": "markdown",
   "metadata": {},
   "source": [
    "# Purpose of Preprocessing\n",
    "- Unify nutrient units"
   ]
  },
  {
   "cell_type": "code",
   "execution_count": 4,
   "metadata": {},
   "outputs": [],
   "source": [
    "import os\n",
    "import json\n",
    "import re"
   ]
  },
  {
   "cell_type": "markdown",
   "metadata": {},
   "source": [
    "# 0 ) Import data"
   ]
  },
  {
   "cell_type": "code",
   "execution_count": 5,
   "metadata": {},
   "outputs": [],
   "source": [
    "vit_path = '../output_processed/vitamins/'\n",
    "min_path = '../output_processed/minerals/'\n",
    "amino_path = '../output_processed/amino-acids/'\n",
    "\n",
    "vit_list = [i for i in os.listdir(vit_path) if i !='.DS_Store']\n",
    "min_list = [i for i in os.listdir(min_path) if i !='.DS_Store']\n",
    "amino_list = [i for i in os.listdir(amino_path) if i !='.DS_Store']"
   ]
  },
  {
   "cell_type": "markdown",
   "metadata": {},
   "source": [
    "# 1 ) get_nutri_key\n",
    "- Get total nutrients name"
   ]
  },
  {
   "cell_type": "code",
   "execution_count": 6,
   "metadata": {},
   "outputs": [],
   "source": [
    "def get_nutri_key(prod_path, prod_list):\n",
    "    total_nutri_list = []\n",
    "    \n",
    "    for prod in prod_list:\n",
    "        with open(prod_path+prod, encoding = 'utf-8-sig') as f:\n",
    "            prod_data = json.load(f)\n",
    "            prod_nutri_list = list(prod_data['nutrients'].keys())\n",
    "            total_nutri_list.extend(prod_nutri_list)\n",
    "            \n",
    "    total_nutri_list = sorted(list(set(total_nutri_list)))\n",
    "    return total_nutri_list"
   ]
  },
  {
   "cell_type": "code",
   "execution_count": 7,
   "metadata": {},
   "outputs": [],
   "source": [
    "vit_nutri_list = get_nutri_key(vit_path, vit_list)\n",
    "min_nutri_list = get_nutri_key(min_path, min_list)\n",
    "amino_nutri_list = get_nutri_key(amino_path, amino_list)"
   ]
  },
  {
   "cell_type": "code",
   "execution_count": 8,
   "metadata": {},
   "outputs": [
    {
     "name": "stdout",
     "output_type": "stream",
     "text": [
      "['Niacin', 'Dietary_Fiber', 'Valine', 'Folic_acid', 'Vitamin_B12', 'Phenylalanine', 'Selenium', 'Magnesium', 'Vitamin_E', 'Vitamin_C', 'Cholesterol', 'Lysine', 'Iso_Leucine', 'Sodium', 'Methionine', 'Iron', 'Phosphorus', 'Vitamin_K', 'Zinc', 'Fat', 'Histidine', 'Leucine', 'Copper', 'Alpha_Linolenic_Acid', 'Vitamin_D', 'Vitamin_B6', 'Tyrosine', 'Threonine', 'Manganese', 'Linoleic_Acid', 'Carbohydrate', 'Potassium', 'Protein', 'Calcium', 'Vitamin_A']\n"
     ]
    }
   ],
   "source": [
    "total_nutri_list = vit_nutri_list + min_nutri_list + amino_nutri_list # 모든 nutrients 명이 담겨있는 리스트\n",
    "total_nutri_list = list(set(total_nutri_list))\n",
    "print(len(total_nutri_list))"
   ]
  },
  {
   "cell_type": "code",
   "execution_count": 9,
   "metadata": {},
   "outputs": [
    {
     "data": {
      "text/plain": [
       "35"
      ]
     },
     "execution_count": 9,
     "metadata": {},
     "output_type": "execute_result"
    }
   ],
   "source": [
    "len(total_nutri_list)"
   ]
  },
  {
   "cell_type": "markdown",
   "metadata": {},
   "source": [
    "# 2 ) get_nutri_unit\n",
    "- Get list of units of each nutrients"
   ]
  },
  {
   "cell_type": "code",
   "execution_count": 10,
   "metadata": {},
   "outputs": [],
   "source": [
    "def get_nutri_unit(prod_path, prod_list, nutri_unit_dict):\n",
    "\n",
    "    for prod in prod_list:\n",
    "\n",
    "        with open(prod_path+prod, encoding = 'utf-8-sig') as f:\n",
    "            prod_data = json.load(f)\n",
    "\n",
    "        for nutri in list(prod_data['nutrients'].keys()):\n",
    "            if nutri in list(nutri_unit_dict.keys()):\n",
    "                nutri_unit_dict[nutri].append(prod_data['nutrients'][nutri][1])\n",
    "            else:\n",
    "                nutri_unit_dict[nutri] = [prod_data['nutrients'][nutri][1]]\n",
    "    nutri_unit_dict = {i:list(set(j)) for i,j in nutri_unit_dict.items()}\n",
    "    return nutri_unit_dict"
   ]
  },
  {
   "cell_type": "code",
   "execution_count": 11,
   "metadata": {},
   "outputs": [],
   "source": [
    "nutri_unit_dict = dict()\n",
    "nutri_unit_dict = get_nutri_unit(vit_path, vit_list, nutri_unit_dict)\n",
    "nutri_unit_dict = get_nutri_unit(min_path, min_list, nutri_unit_dict)\n",
    "nutri_unit_dict = get_nutri_unit(amino_path, amino_list, nutri_unit_dict)"
   ]
  },
  {
   "cell_type": "markdown",
   "metadata": {},
   "source": [
    "- diff_units: Nutrients with multiple units"
   ]
  },
  {
   "cell_type": "code",
   "execution_count": 12,
   "metadata": {},
   "outputs": [
    {
     "data": {
      "text/plain": [
       "{'Fat': ['mg', 'g'],\n",
       " 'Carbohydrate': ['mg', 'g미만', 'g'],\n",
       " 'Vitamin_A': ['mg',\n",
       "  'µg',\n",
       "  'ugRAE',\n",
       "  'µgRAE',\n",
       "  'mcgREA',\n",
       "  'IU',\n",
       "  'mgRAE',\n",
       "  'IU3166IU',\n",
       "  'mcg',\n",
       "  'mcgRAE',\n",
       "  'I'],\n",
       " 'Vitamin_C': ['mg', 'mg220mg', 'mg11mg', 'g'],\n",
       " 'Vitamin_D': ['mg',\n",
       "  'iu',\n",
       "  'µg',\n",
       "  'IU25mcg',\n",
       "  '5',\n",
       "  'g',\n",
       "  'IU',\n",
       "  'mcgIU',\n",
       "  'mcg400IU',\n",
       "  'mcg',\n",
       "  '7',\n",
       "  'ug',\n",
       "  'I'],\n",
       " 'Vitamin_E': ['mg', 'mgAT', 'mg4mg', 'a', 'IU', 'mcg', 'I'],\n",
       " 'Vitamin_K': ['mg',\n",
       "  'µg',\n",
       "  'mcg2000mcg1500mcg11mcg181mcg43mcg',\n",
       "  'μg',\n",
       "  'mcg',\n",
       "  'mcg90mcg80mcg'],\n",
       " 'Vitamin_B6': ['mg', 'mcg', 'g'],\n",
       " 'Folic_acid': ['mg',\n",
       "  'ugDFE',\n",
       "  'mcgDFE엽산',\n",
       "  'µgDFE',\n",
       "  'mcgº',\n",
       "  'mcgDFE',\n",
       "  'mcgDEF',\n",
       "  'µg',\n",
       "  'mcg엽산',\n",
       "  'mcgDFE엽산400mcg',\n",
       "  'mcgDFEL',\n",
       "  'mgDFE',\n",
       "  'mcg',\n",
       "  'mcg식이엽산당량',\n",
       "  'ug',\n",
       "  'mcgDFE엽산240mcg'],\n",
       " 'Vitamin_B12': ['mg', 'µg', 'mcgDFE', 'μg', 'mcg', 'ug'],\n",
       " 'Calcium': ['mg', 'g', 'mcg', 'mg6mg'],\n",
       " 'Iron': ['mg', 'mcg', 'g'],\n",
       " 'Magnesium': ['mg', 'mcg', 'g'],\n",
       " 'Zinc': ['mg', 'mcg'],\n",
       " 'Selenium': ['mg', 'µg', 'mcg'],\n",
       " 'Copper': ['mg', '2', 'mcg'],\n",
       " 'Sodium': ['mg', 'mcg', 'g'],\n",
       " 'Manganese': ['mg', 'mcg', '3'],\n",
       " 'Potassium': ['mg', 'mcg'],\n",
       " 'Niacin': ['mg', 'mgnE', 'mgNE'],\n",
       " 'Protein': ['mg', 'g미만', 'g'],\n",
       " 'Cholesterol': ['mg', 'mg미만', 'g'],\n",
       " 'Dietary_Fiber': ['mg', 'g미만', 'g'],\n",
       " 'Lysine': ['mg', 'g'],\n",
       " 'Methionine': ['mg', 'g'],\n",
       " 'Phenylalanine': ['mg', 'g'],\n",
       " 'Iso_Leucine': ['mg', 'g'],\n",
       " 'Leucine': ['mg', 'g'],\n",
       " 'Valine': ['mg', 'g']}"
      ]
     },
     "execution_count": 12,
     "metadata": {},
     "output_type": "execute_result"
    }
   ],
   "source": [
    "diff_units = {i:j for i,j in nutri_unit_dict.items() if len(j)!=1} # 단위 여러개인 영양소들\n",
    "diff_units "
   ]
  },
  {
   "cell_type": "markdown",
   "metadata": {},
   "source": [
    "- same_units: Nutrients with one unit"
   ]
  },
  {
   "cell_type": "code",
   "execution_count": 13,
   "metadata": {},
   "outputs": [
    {
     "data": {
      "text/plain": [
       "{'Phosphorus': ['mg'],\n",
       " 'Tyrosine': ['mg'],\n",
       " 'Alpha_Linolenic_Acid': ['mg'],\n",
       " 'Histidine': ['mg'],\n",
       " 'Threonine': ['mg'],\n",
       " 'Linoleic_Acid': ['mg']}"
      ]
     },
     "execution_count": 13,
     "metadata": {},
     "output_type": "execute_result"
    }
   ],
   "source": [
    "same_units = {i:j for i,j in nutri_unit_dict.items() if len(j)==1} # 단위가 하나로 통일된 영양소들\n",
    "same_units"
   ]
  },
  {
   "cell_type": "markdown",
   "metadata": {},
   "source": [
    "# 3 ) Conversion to µg \n",
    "- mcg, ug -> µg\n",
    "- Leave English only"
   ]
  },
  {
   "cell_type": "code",
   "execution_count": 14,
   "metadata": {},
   "outputs": [],
   "source": [
    "def to_ug(json_data):\n",
    "    nutri_list = list(json_data['nutrients'].keys())\n",
    "    for nutri in nutri_list:\n",
    "        if 'mcg' in json_data['nutrients'][nutri][1] or 'µg' in json_data['nutrients'][nutri][1]:\n",
    "            json_data['nutrients'][nutri][1] = re.sub('mcg', 'ug', json_data['nutrients'][nutri][1])\n",
    "            json_data['nutrients'][nutri][1] = re.sub('µg', 'ug', json_data['nutrients'][nutri][1])\n",
    "        \n",
    "        else:\n",
    "            json_data['nutrients'][nutri][1] = re.sub('[^a-zA-Z]', '', json_data['nutrients'][nutri][1])"
   ]
  },
  {
   "cell_type": "markdown",
   "metadata": {},
   "source": [
    "# 4 ) Conversion between mg and g"
   ]
  },
  {
   "cell_type": "markdown",
   "metadata": {},
   "source": [
    "### 1. Nutrients in grams"
   ]
  },
  {
   "cell_type": "code",
   "execution_count": 15,
   "metadata": {},
   "outputs": [
    {
     "data": {
      "text/plain": [
       "{'Fat': ['mg', 'g'],\n",
       " 'Carbohydrate': ['mg', 'g미만', 'g'],\n",
       " 'Protein': ['mg', 'g미만', 'g'],\n",
       " 'Dietary_Fiber': ['mg', 'g미만', 'g'],\n",
       " 'Tyrosine': ['mg'],\n",
       " 'Alpha_Linolenic_Acid': ['mg'],\n",
       " 'Phenylalanine': ['mg', 'g'],\n",
       " 'Linoleic_Acid': ['mg']}"
      ]
     },
     "execution_count": 15,
     "metadata": {},
     "output_type": "execute_result"
    }
   ],
   "source": [
    "{i:j for i,j in nutri_unit_dict.items() if i in\\\n",
    "                ['Protein','Fat','Carbohydrate','Dietary_Fiber',\n",
    "                'Phenylalanine','Tyrosine','Linoleic_Acid','Alpha_Linolenic_Acid']} "
   ]
  },
  {
   "cell_type": "markdown",
   "metadata": {},
   "source": [
    "### 2. Nutrients in milligrams"
   ]
  },
  {
   "cell_type": "code",
   "execution_count": 16,
   "metadata": {},
   "outputs": [
    {
     "data": {
      "text/plain": [
       "{'Vitamin_C': ['mg', 'mg220mg', 'mg11mg', 'g'],\n",
       " 'Vitamin_B6': ['mg', 'mcg', 'g'],\n",
       " 'Calcium': ['mg', 'g', 'mcg', 'mg6mg'],\n",
       " 'Iron': ['mg', 'mcg', 'g'],\n",
       " 'Magnesium': ['mg', 'mcg', 'g'],\n",
       " 'Zinc': ['mg', 'mcg'],\n",
       " 'Copper': ['mg', '2', 'mcg'],\n",
       " 'Sodium': ['mg', 'mcg', 'g'],\n",
       " 'Manganese': ['mg', 'mcg', '3'],\n",
       " 'Potassium': ['mg', 'mcg'],\n",
       " 'Phosphorus': ['mg'],\n",
       " 'Cholesterol': ['mg', 'mg미만', 'g'],\n",
       " 'Lysine': ['mg', 'g'],\n",
       " 'Methionine': ['mg', 'g'],\n",
       " 'Histidine': ['mg'],\n",
       " 'Iso_Leucine': ['mg', 'g'],\n",
       " 'Leucine': ['mg', 'g'],\n",
       " 'Threonine': ['mg'],\n",
       " 'Valine': ['mg', 'g']}"
      ]
     },
     "execution_count": 16,
     "metadata": {},
     "output_type": "execute_result"
    }
   ],
   "source": [
    "{i:j for i,j in nutri_unit_dict.items() if i in\\\n",
    "            ['Calcium','Iron','Magnesium','Phosphorus','Potassium','Sodium','Zinc','Copper','Manganese',\n",
    "            'Vitamin_B6','Vitamin_C','Leucine','Iso_Leucine','Histidine','Lysine','Methionine',\n",
    "            'Threonine','Valine','Cholesterol']} "
   ]
  },
  {
   "cell_type": "markdown",
   "metadata": {},
   "source": [
    "Nutrients with two units"
   ]
  },
  {
   "cell_type": "code",
   "execution_count": 17,
   "metadata": {},
   "outputs": [
    {
     "data": {
      "text/plain": [
       "{'Zinc': ['mg', 'mcg'],\n",
       " 'Potassium': ['mg', 'mcg'],\n",
       " 'Lysine': ['mg', 'g'],\n",
       " 'Methionine': ['mg', 'g'],\n",
       " 'Iso_Leucine': ['mg', 'g'],\n",
       " 'Leucine': ['mg', 'g'],\n",
       " 'Valine': ['mg', 'g']}"
      ]
     },
     "execution_count": 17,
     "metadata": {},
     "output_type": "execute_result"
    }
   ],
   "source": [
    "{i:j for i,j in nutri_unit_dict.items() if (i in\\\n",
    "            ['Calcium','Iron','Magnesium','Phosphorus','Potassium','Sodium','Zinc','Copper','Manganese',\n",
    "            'Vitamin_B6','Vitamin_C','Leucine','Iso_Leucine','Histidine','Lysine','Methionine',\n",
    "            'Threonine','Valine','Cholesterol'])&(len(j)==2)} "
   ]
  },
  {
   "cell_type": "markdown",
   "metadata": {},
   "source": [
    "Nutrients with more or less than two units"
   ]
  },
  {
   "cell_type": "code",
   "execution_count": 18,
   "metadata": {},
   "outputs": [
    {
     "data": {
      "text/plain": [
       "{'Vitamin_C': ['mg', 'mg220mg', 'mg11mg', 'g'],\n",
       " 'Vitamin_B6': ['mg', 'mcg', 'g'],\n",
       " 'Calcium': ['mg', 'g', 'mcg', 'mg6mg'],\n",
       " 'Iron': ['mg', 'mcg', 'g'],\n",
       " 'Magnesium': ['mg', 'mcg', 'g'],\n",
       " 'Copper': ['mg', '2', 'mcg'],\n",
       " 'Sodium': ['mg', 'mcg', 'g'],\n",
       " 'Manganese': ['mg', 'mcg', '3'],\n",
       " 'Phosphorus': ['mg'],\n",
       " 'Cholesterol': ['mg', 'mg미만', 'g'],\n",
       " 'Histidine': ['mg'],\n",
       " 'Threonine': ['mg']}"
      ]
     },
     "execution_count": 18,
     "metadata": {},
     "output_type": "execute_result"
    }
   ],
   "source": [
    "{i:j for i,j in nutri_unit_dict.items() if (i in\\\n",
    "            ['Calcium','Iron','Magnesium','Phosphorus','Potassium','Sodium','Zinc','Copper','Manganese',\n",
    "            'Vitamin_B6','Vitamin_C','Leucine','Iso_Leucine','Histidine','Lysine','Methionine',\n",
    "            'Threonine','Valine','Cholesterol'])&(len(j)!=2)} "
   ]
  },
  {
   "cell_type": "markdown",
   "metadata": {},
   "source": [
    "### mg_g_conversion\n",
    "- g -> mg\n",
    "- mg -> g"
   ]
  },
  {
   "cell_type": "code",
   "execution_count": 19,
   "metadata": {},
   "outputs": [],
   "source": [
    "def mg_g_conversion(json_data):\n",
    "    if 'nutrients' in list(json_data.keys()):\n",
    "        nutri_list = list(json_data['nutrients'].keys())\n",
    "        for nutri in nutri_list:\n",
    "\n",
    "            ## g으로 바꿔줘야하는 애들. mg -> g\n",
    "            if nutri in ['Protein','Fat','Carbohydrate','Dietary_Fiber']:\n",
    "\n",
    "                if json_data['nutrients'][nutri][1] == 'g':\n",
    "                    pass\n",
    "                \n",
    "                elif json_data['nutrients'][nutri][1] == 'mg':\n",
    "                    json_data['nutrients'][nutri][0] = str(round(float(json_data['nutrients'][nutri][0])/1000,3))\n",
    "                    json_data['nutrients'][nutri][1] = 'g'\n",
    "\n",
    "                else:\n",
    "                    del json_data['nutrients'] # 단위 이상하면 걍 삭제해버려..\n",
    "                    break\n",
    "\n",
    "            ## mg으로 바꿔줘야하는 애들. g -> mg\n",
    "            elif nutri in ['Calcium','Iron','Magnesium','Copper','Phosphorus','Potassium','Sodium','Zinc','Manganese',\n",
    "                'Vitamin_B6','Vitamin_C','Leucine','Iso_Leucine','Histidine','Lysine','Methionine',\n",
    "                'Threonine','Valine','Cholesterol',\n",
    "                'Phenylalanine','Tyrosine']:\n",
    "\n",
    "                if json_data['nutrients'][nutri][1] == 'mg':\n",
    "                    pass\n",
    "                \n",
    "                elif json_data['nutrients'][nutri][1] == 'g':\n",
    "                    json_data['nutrients'][nutri][0] = str(float(json_data['nutrients'][nutri][0])*1000)\n",
    "                    json_data['nutrients'][nutri][1] = 'mg'\n",
    "\n",
    "                elif json_data['nutrients'][nutri][1] == 'mgmg':\n",
    "                    json_data['nutrients'][nutri][1] = 'mg'\n",
    "\n",
    "                elif json_data['nutrients'][nutri][1] == 'ug': # Copper: mcg -> mg\n",
    "                    json_data['nutrients'][nutri][0] = str(round(float(json_data['nutrients'][nutri][0])/1000,3))\n",
    "                    json_data['nutrients'][nutri][1] = 'mg'\n",
    "\n",
    "                else:\n",
    "                    del json_data['nutrients'] # 단위 이상하면 걍 삭제해버려..\n",
    "                    break"
   ]
  },
  {
   "cell_type": "markdown",
   "metadata": {},
   "source": [
    "# 5 ) Complex cases\n",
    "- ex. Vitamins.."
   ]
  },
  {
   "cell_type": "code",
   "execution_count": 20,
   "metadata": {},
   "outputs": [
    {
     "data": {
      "text/plain": [
       "{'Vitamin_A': ['mg',\n",
       "  'µg',\n",
       "  'ugRAE',\n",
       "  'µgRAE',\n",
       "  'mcgREA',\n",
       "  'IU',\n",
       "  'mgRAE',\n",
       "  'IU3166IU',\n",
       "  'mcg',\n",
       "  'mcgRAE',\n",
       "  'I'],\n",
       " 'Vitamin_D': ['mg',\n",
       "  'iu',\n",
       "  'µg',\n",
       "  'IU25mcg',\n",
       "  '5',\n",
       "  'g',\n",
       "  'IU',\n",
       "  'mcgIU',\n",
       "  'mcg400IU',\n",
       "  'mcg',\n",
       "  '7',\n",
       "  'ug',\n",
       "  'I'],\n",
       " 'Vitamin_E': ['mg', 'mgAT', 'mg4mg', 'a', 'IU', 'mcg', 'I'],\n",
       " 'Vitamin_K': ['mg',\n",
       "  'µg',\n",
       "  'mcg2000mcg1500mcg11mcg181mcg43mcg',\n",
       "  'μg',\n",
       "  'mcg',\n",
       "  'mcg90mcg80mcg'],\n",
       " 'Folic_acid': ['mg',\n",
       "  'ugDFE',\n",
       "  'mcgDFE엽산',\n",
       "  'µgDFE',\n",
       "  'mcgº',\n",
       "  'mcgDFE',\n",
       "  'mcgDEF',\n",
       "  'µg',\n",
       "  'mcg엽산',\n",
       "  'mcgDFE엽산400mcg',\n",
       "  'mcgDFEL',\n",
       "  'mgDFE',\n",
       "  'mcg',\n",
       "  'mcg식이엽산당량',\n",
       "  'ug',\n",
       "  'mcgDFE엽산240mcg'],\n",
       " 'Vitamin_B12': ['mg', 'µg', 'mcgDFE', 'μg', 'mcg', 'ug'],\n",
       " 'Selenium': ['mg', 'µg', 'mcg'],\n",
       " 'Niacin': ['mg', 'mgnE', 'mgNE']}"
      ]
     },
     "execution_count": 20,
     "metadata": {},
     "output_type": "execute_result"
    }
   ],
   "source": [
    "{i:j for i,j in nutri_unit_dict.items() if i  not in\\\n",
    "            ['Calcium','Iron','Magnesium','Phosphorus','Potassium','Sodium','Zinc','Copper','Manganese',\n",
    "            'Vitamin_B6','Vitamin_C','Leucine','Iso_Leucine','Histidine','Lysine','Methionine',\n",
    "            'Threonine','Valine','Cholesterol','Protein','Fat','Carbohydrate','Dietary_Fiber',\n",
    "                'Phenylalanine','Tyrosine','Linoleic_Acid','Alpha_Linolenic_Acid']} "
   ]
  },
  {
   "cell_type": "code",
   "execution_count": 21,
   "metadata": {},
   "outputs": [],
   "source": [
    "def other_unit_conversion(json_data):\n",
    "    if 'nutrients' in list(json_data.keys()):\n",
    "        nutri_list = list(json_data['nutrients'].keys())\n",
    "        for nutri in nutri_list:\n",
    "\n",
    "            # 1. Vitamin_A (ug)\n",
    "            if nutri == 'Vitamin_A': # ['IU', 'IUIU', 'gREA', 'mg', 'gRAE', 'mgRAE', 'g', 'I']\n",
    "                if json_data['nutrients'][nutri][1] in ['ug', 'ugRAE', 'ug RAE']:\n",
    "                    pass\n",
    "                \n",
    "                elif json_data['nutrients'][nutri][1] in ['IU', 'IUIU','I']: # IU -> ug\n",
    "                    json_data['nutrients'][nutri][0] = str(float(json_data['nutrients'][nutri][0])*0.33)\n",
    "                \n",
    "                elif json_data['nutrients'][nutri][1] in ['gREA','gRAE','g']: # g -> ug\n",
    "                    json_data['nutrients'][nutri][0] = str(round(float(json_data['nutrients'][nutri][0])*10**(-6),3))\n",
    "                \n",
    "                elif json_data['nutrients'][nutri][1] in ['gREA', 'mg', 'gRAE', 'mgRAE', 'g']: # mg -> ug\n",
    "                    json_data['nutrients'][nutri][0] = str(round(float(json_data['nutrients'][nutri][0])*10**(-3),3))\n",
    "                \n",
    "                else:\n",
    "                    del json_data['nutrients']\n",
    "                    break\n",
    "                \n",
    "                try:\n",
    "                    json_data['nutrients'][nutri][1] = 'ugRAE'\n",
    "                \n",
    "                except:\n",
    "                    pass\n",
    "\n",
    "            # 2. Vitamin_D (ug)\n",
    "            elif nutri == 'Vitamin_D': #['', 'iu', 'IU', 'gIU', 'IUg', 'mg', 'g', 'I']\n",
    "                if json_data['nutrients'][nutri][1] == 'ug':\n",
    "                    pass\n",
    "                \n",
    "                elif json_data['nutrients'][nutri][1] in ['iu', 'IU','I','gIU', 'IUg']: # IU -> ug\n",
    "                    json_data['nutrients'][nutri][0] = str(round(float(json_data['nutrients'][nutri][0])*0.025,3))\n",
    "\n",
    "                elif json_data['nutrients'][nutri][1] == 'mg': # mg -> ug\n",
    "                    json_data['nutrients'][nutri][0] = str(round(float(json_data['nutrients'][nutri][0])*10**(3),3))\n",
    "\n",
    "                elif json_data['nutrients'][nutri][1] == 'g': # g -> ug\n",
    "                    json_data['nutrients'][nutri][0] = str(round(float(json_data['nutrients'][nutri][0])*10**(6),3))\n",
    "                \n",
    "                else:\n",
    "                    del json_data['nutrients']\n",
    "                    break     \n",
    "                \n",
    "                try:\n",
    "                    json_data['nutrients'][nutri][1] = 'ug'\n",
    "                \n",
    "                except:\n",
    "                    pass\n",
    "\n",
    "            # 3. Vitamin_E (mg α-TE)\n",
    "            elif nutri == 'Vitamin_E': # ['a', 'IU', 'mgmg', 'mgAT', 'mg', 'g', 'I']\n",
    "                if json_data['nutrients'][nutri][1] == 'mg α-TE':\n",
    "                    pass\n",
    "                \n",
    "                elif json_data['nutrients'][nutri][1] in ['IU','I']: # IU -> mg \n",
    "                    json_data['nutrients'][nutri][0] = str(round(float(json_data['nutrients'][nutri][0])*0.67,3))\n",
    "                \n",
    "                elif json_data['nutrients'][nutri][1] == 'g': # g -> mg\n",
    "                    json_data['nutrients'][nutri][0] = str(round(float(json_data['nutrients'][nutri][0])*10**3,3))\n",
    "                \n",
    "                elif json_data['nutrients'][nutri][1] == 'a':\n",
    "                    del json_data['nutrients']\n",
    "                    break\n",
    "                \n",
    "                try:\n",
    "                    json_data['nutrients'][nutri][1] = \"mg α-TE\"\n",
    "                \n",
    "                except:\n",
    "                    pass\n",
    "                \n",
    "\n",
    "            # 4. Vitamin_K (ug)\n",
    "            elif nutri == 'Vitamin_K': # ['gggggg', 'mg', 'ggg', 'g']\n",
    "                if json_data['nutrients'][nutri][1] == 'ug':\n",
    "                    pass\n",
    "                \n",
    "                elif json_data['nutrients'][nutri][1] == 'mg': # mg to ug\n",
    "                    json_data['nutrients'][nutri][0] = str(round(float(json_data['nutrients'][nutri][0])*10**3,3))\n",
    "                \n",
    "                elif json_data['nutrients'][nutri][1] in ['gggggg', 'ggg','g']: # g to ug\n",
    "                    json_data['nutrients'][nutri][0] = str(round(float(json_data['nutrients'][nutri][0])*10**6,3))\n",
    "\n",
    "                else:\n",
    "                    del json_data['nutrients']\n",
    "                    break\n",
    "                \n",
    "                try:\n",
    "                    json_data['nutrients'][nutri][1] = 'ug'\n",
    "                \n",
    "                except:\n",
    "                    pass\n",
    "\n",
    "            # 5. Folic_acid (µg DFE)\n",
    "            elif nutri == 'Folic_acid': # ['gDFEL', 'mg', 'gDFEg', 'gDEF', 'gDFE', 'mgDFE', 'g']\n",
    "                if json_data['nutrients'][nutri][1] in ['ug DFE', 'ugDFE', 'ug']:\n",
    "                    pass\n",
    "                \n",
    "                elif json_data['nutrients'][nutri][1] in ['gDFEL', 'gDFEg', 'gDEF', 'gDFE']:\n",
    "                    del json_data['nutrients']\n",
    "                    break\n",
    "                \n",
    "                elif json_data['nutrients'][nutri][1] == 'mg': # mg to ug DFE\n",
    "                    json_data['nutrients'][nutri][0] = str(round(float(json_data['nutrients'][nutri][0])*2*10**3,3))\n",
    "                \n",
    "                elif json_data['nutrients'][nutri][1] == 'g':\n",
    "                    del json_data['nutrients']\n",
    "                    break\n",
    "                \n",
    "                else:\n",
    "                    del json_data['nutrients']\n",
    "                    break\n",
    "\n",
    "                try:\n",
    "                    json_data['nutrients'][nutri][1] = 'ugDFE'\n",
    "                    json_data['nutrients']['Folate'] = json_data['nutrients'].pop(nutri)\n",
    "                \n",
    "                except:\n",
    "                    pass\n",
    "                \n",
    "\n",
    "            # 6. Vitamin_B12 (µg)\n",
    "            elif nutri == 'Vitamin_B12': # ['gDFE', 'mg', 'g']\n",
    "                if json_data['nutrients'][nutri][1] == 'ug':\n",
    "                    pass\n",
    "                \n",
    "                elif json_data['nutrients'][nutri][1] == 'mg': # mg to ug\n",
    "                    json_data['nutrients'][nutri][0] = str(round(float(json_data['nutrients'][nutri][0])*10**3,3))\n",
    "                \n",
    "                elif json_data['nutrients'][nutri][1] == 'g': # g to ug\n",
    "                    del json_data['nutrients']\n",
    "                    break\n",
    "\n",
    "                else:\n",
    "                    del json_data['nutrients']\n",
    "                    break\n",
    "                \n",
    "                try:\n",
    "                    json_data['nutrients'][nutri][1] = 'ug'\n",
    "                \n",
    "                except:\n",
    "                    pass\n",
    "\n",
    "            # 7. Selenium (µg)\n",
    "            elif nutri == 'Selenium': # ['mg','g']\n",
    "                if json_data['nutrients'][nutri][1] == 'ug':\n",
    "                    pass\n",
    "\n",
    "                elif json_data['nutrients'][nutri][1] == 'mg': # mg to ug\n",
    "                    json_data['nutrients'][nutri][0] = str(round(float(json_data['nutrients'][nutri][0])*10**3,3))\n",
    "                elif json_data['nutrients'][nutri][1] == 'g': # g to ug\n",
    "                    del json_data['nutrients']\n",
    "                    break\n",
    "\n",
    "                else:\n",
    "                    del json_data['nutrients']\n",
    "                    break\n",
    "                \n",
    "                try:\n",
    "                    json_data['nutrients'][nutri][1] = 'ug'\n",
    "                \n",
    "                except:\n",
    "                    pass\n",
    "\n",
    "            # 8. Niacin\n",
    "            elif nutri == 'Niacin': # ['mgnE', 'mgNE', 'mg']\n",
    "                json_data['nutrients'][nutri][1] = 'mgNE'"
   ]
  },
  {
   "cell_type": "markdown",
   "metadata": {},
   "source": [
    "# 6 ) Apply conversion"
   ]
  },
  {
   "cell_type": "code",
   "execution_count": 22,
   "metadata": {},
   "outputs": [],
   "source": [
    "def apply_unit_conversion(prod_path, prod_list, prod_new_path):\n",
    "    for prod in prod_list:\n",
    "\n",
    "        with open(prod_path+prod, encoding = 'utf-8-sig') as f:\n",
    "            prod_data = json.load(f)\n",
    "        \n",
    "        to_ug(prod_data)\n",
    "        mg_g_conversion(prod_data)\n",
    "        other_unit_conversion(prod_data)\n",
    "\n",
    "        if 'nutrients' in prod_data.keys():\n",
    "            if prod_path == amino_path:\n",
    "                amino_selection = ['Leucine', 'Iso_Leucine', 'Histidine', 'Lysine',\n",
    "                                    'Methionine', 'Phenylalanine', 'Tyrosine', 'Threonine', 'Valine']\n",
    "                amino_nutri_list = list(prod_data['nutrients'].keys())\n",
    "\n",
    "                if sum([amino_nutri_list.count(i) for i in amino_selection]) > 0:\n",
    "                    with open(prod_new_path+'iherb_{}.json'.format(prod_data['prod_cd']), 'w',\n",
    "                                        encoding = 'UTF-8-sig') as new_file:\n",
    "                        new_file.write(json.dumps(prod_data, ensure_ascii=False))\n",
    "\n",
    "            else: \n",
    "                with open(prod_new_path+'iherb_{}.json'.format(prod_data['prod_cd']), 'w',\n",
    "                                        encoding = 'UTF-8-sig') as new_file:\n",
    "                    new_file.write(json.dumps(prod_data, ensure_ascii=False)) "
   ]
  },
  {
   "cell_type": "markdown",
   "metadata": {},
   "source": [
    "Test one example to check functions work properly"
   ]
  },
  {
   "cell_type": "code",
   "execution_count": 23,
   "metadata": {},
   "outputs": [
    {
     "name": "stdout",
     "output_type": "stream",
     "text": [
      "{'url': 'https://kr.iherb.com/pr/source-naturals-l-tryptophan-1-000-mg-90-tablets/63430', 'title': 'Source Naturals, L-트립토판, 1,000mg, 90정', 'prod_cd': 'SNS-02610', 'price': '39576', 'nutrients': {'Vitamin_B6': ['20', 'mg'], 'Iron': ['390', 'ug']}, 'serving': ['1', 'Tablet']}\n",
      "{'url': 'https://kr.iherb.com/pr/source-naturals-l-tryptophan-1-000-mg-90-tablets/63430', 'title': 'Source Naturals, L-트립토판, 1,000mg, 90정', 'prod_cd': 'SNS-02610', 'price': '39576', 'nutrients': {'Vitamin_B6': ['20', 'mg'], 'Iron': ['0.39', 'mg']}, 'serving': ['1', 'Tablet']}\n",
      "{'url': 'https://kr.iherb.com/pr/source-naturals-l-tryptophan-1-000-mg-90-tablets/63430', 'title': 'Source Naturals, L-트립토판, 1,000mg, 90정', 'prod_cd': 'SNS-02610', 'price': '39576', 'nutrients': {'Vitamin_B6': ['20', 'mg'], 'Iron': ['0.39', 'mg']}, 'serving': ['1', 'Tablet']}\n"
     ]
    }
   ],
   "source": [
    "with open(amino_path+amino_list[3], encoding = 'utf-8-sig') as f:\n",
    "    prod_data = json.load(f)\n",
    "\n",
    "to_ug(prod_data)\n",
    "print(prod_data)\n",
    "\n",
    "mg_g_conversion(prod_data)\n",
    "print(prod_data)\n",
    "\n",
    "other_unit_conversion(prod_data)\n",
    "print(prod_data)"
   ]
  },
  {
   "cell_type": "markdown",
   "metadata": {},
   "source": [
    "Save processed data to new directories"
   ]
  },
  {
   "cell_type": "code",
   "execution_count": 24,
   "metadata": {},
   "outputs": [],
   "source": [
    "vit_new_path = '../output_processed2/vitamins/'\n",
    "apply_unit_conversion(vit_path, vit_list, vit_new_path)"
   ]
  },
  {
   "cell_type": "code",
   "execution_count": 25,
   "metadata": {},
   "outputs": [],
   "source": [
    "min_new_path = '../output_processed2/minerals/'\n",
    "apply_unit_conversion(min_path, min_list, min_new_path)"
   ]
  },
  {
   "cell_type": "code",
   "execution_count": 26,
   "metadata": {},
   "outputs": [],
   "source": [
    "amino_new_path = '../output_processed2/amino-acids/'\n",
    "apply_unit_conversion(amino_path, amino_list, amino_new_path)"
   ]
  }
 ],
 "metadata": {
  "interpreter": {
   "hash": "aee8b7b246df8f9039afb4144a1f6fd8d2ca17a180786b69acc140d282b71a49"
  },
  "kernelspec": {
   "display_name": "Python 3.9.5 64-bit",
   "language": "python",
   "name": "python3"
  },
  "language_info": {
   "codemirror_mode": {
    "name": "ipython",
    "version": 3
   },
   "file_extension": ".py",
   "mimetype": "text/x-python",
   "name": "python",
   "nbconvert_exporter": "python",
   "pygments_lexer": "ipython3",
   "version": "3.9.5"
  },
  "orig_nbformat": 4
 },
 "nbformat": 4,
 "nbformat_minor": 2
}
